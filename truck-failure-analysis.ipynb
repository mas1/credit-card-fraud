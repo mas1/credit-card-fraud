{
 "cells": [
  {
   "cell_type": "code",
   "execution_count": 1,
   "metadata": {},
   "outputs": [],
   "source": [
    "#from dask.distributed import Client, progress\n",
    "#import dask.dataframe as dd\n",
    "\n",
    "from sklearn.model_selection import cross_validate, GridSearchCV\n",
    "from sklearn.metrics import roc_auc_score\n",
    "import joblib\n",
    "#from dask_ml.model_selection import train_test_split\n",
    "import pandas as pd\n",
    "import numpy as np\n",
    "import warnings\n",
    "\n",
    "warnings.filterwarnings(\"ignore\")"
   ]
  },
  {
   "cell_type": "code",
   "execution_count": null,
   "metadata": {},
   "outputs": [],
   "source": [
    "df = pd.read_csv()"
   ]
  },
  {
   "cell_type": "code",
   "execution_count": 2,
   "metadata": {},
   "outputs": [
    {
     "name": "stdout",
     "output_type": "stream",
     "text": [
      " Volume in drive C is Windows\n",
      " Volume Serial Number is D263-1A67\n",
      "\n",
      " Directory of C:\\Users\\mason noel\\Documents\\Projects\\credit-card-fraud\n",
      "\n",
      "12/18/2020  05:36 PM    <DIR>          .\n",
      "12/18/2020  05:36 PM    <DIR>          ..\n",
      "12/18/2020  05:35 PM    <DIR>          .ipynb_checkpoints\n",
      "12/18/2020  04:46 PM            19,124 credit card fraud analysis.ipynb\n",
      "12/17/2020  08:51 PM    <DIR>          dask-worker-space\n",
      "12/18/2020  05:36 PM             1,148 truck-failure-analysis.ipynb\n",
      "               2 File(s)         20,272 bytes\n",
      "               4 Dir(s)  52,877,025,280 bytes free\n"
     ]
    }
   ],
   "source": [
    "!dir"
   ]
  },
  {
   "cell_type": "code",
   "execution_count": null,
   "metadata": {},
   "outputs": [],
   "source": []
  }
 ],
 "metadata": {
  "kernelspec": {
   "display_name": "Python 3",
   "language": "python",
   "name": "python3"
  },
  "language_info": {
   "codemirror_mode": {
    "name": "ipython",
    "version": 3
   },
   "file_extension": ".py",
   "mimetype": "text/x-python",
   "name": "python",
   "nbconvert_exporter": "python",
   "pygments_lexer": "ipython3",
   "version": "3.8.5"
  }
 },
 "nbformat": 4,
 "nbformat_minor": 4
}
